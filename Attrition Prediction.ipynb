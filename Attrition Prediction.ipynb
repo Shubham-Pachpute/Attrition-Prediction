{
 "cells": [
  {
   "cell_type": "code",
   "execution_count": 37,
   "id": "7dcb3aad",
   "metadata": {},
   "outputs": [],
   "source": [
    "import numpy as np\n",
    "import pandas as pd\n",
    "import matplotlib.pyplot as plt\n",
    "from sklearn.metrics import confusion_matrix,classification_report,f1_score,accuracy_score"
   ]
  },
  {
   "cell_type": "code",
   "execution_count": 38,
   "id": "3960bfea",
   "metadata": {},
   "outputs": [],
   "source": [
    "df = pd.read_csv(\"attrition.csv\")"
   ]
  },
  {
   "cell_type": "code",
   "execution_count": 58,
   "id": "e6ed591a",
   "metadata": {},
   "outputs": [
    {
     "data": {
      "text/html": [
       "<div>\n",
       "<style scoped>\n",
       "    .dataframe tbody tr th:only-of-type {\n",
       "        vertical-align: middle;\n",
       "    }\n",
       "\n",
       "    .dataframe tbody tr th {\n",
       "        vertical-align: top;\n",
       "    }\n",
       "\n",
       "    .dataframe thead th {\n",
       "        text-align: right;\n",
       "    }\n",
       "</style>\n",
       "<table border=\"1\" class=\"dataframe\">\n",
       "  <thead>\n",
       "    <tr style=\"text-align: right;\">\n",
       "      <th></th>\n",
       "      <th>Age</th>\n",
       "      <th>Attrition</th>\n",
       "      <th>BusinessTravel</th>\n",
       "      <th>Department</th>\n",
       "      <th>EducationField</th>\n",
       "      <th>EnvironmentSatisfaction</th>\n",
       "      <th>Gender</th>\n",
       "      <th>JobInvolvement</th>\n",
       "      <th>JobLevel</th>\n",
       "      <th>JobSatisfaction</th>\n",
       "      <th>MaritalStatus</th>\n",
       "      <th>MonthlyIncome</th>\n",
       "      <th>OverTime</th>\n",
       "      <th>TotalWorkingYears</th>\n",
       "      <th>WorkLifeBalance</th>\n",
       "      <th>YearsAtCompany</th>\n",
       "      <th>YearsInCurrentRole</th>\n",
       "      <th>YearsSinceLastPromotion</th>\n",
       "      <th>YearsWithCurrManager</th>\n",
       "      <th>DistanceFromHome</th>\n",
       "    </tr>\n",
       "  </thead>\n",
       "  <tbody>\n",
       "    <tr>\n",
       "      <th>0</th>\n",
       "      <td>41</td>\n",
       "      <td>1</td>\n",
       "      <td>Travel_Rarely</td>\n",
       "      <td>Sales</td>\n",
       "      <td>Life Sciences</td>\n",
       "      <td>2</td>\n",
       "      <td>Female</td>\n",
       "      <td>3</td>\n",
       "      <td>2</td>\n",
       "      <td>4</td>\n",
       "      <td>Single</td>\n",
       "      <td>5993</td>\n",
       "      <td>Yes</td>\n",
       "      <td>8</td>\n",
       "      <td>1</td>\n",
       "      <td>6</td>\n",
       "      <td>4</td>\n",
       "      <td>0</td>\n",
       "      <td>5</td>\n",
       "      <td>1</td>\n",
       "    </tr>\n",
       "    <tr>\n",
       "      <th>1</th>\n",
       "      <td>49</td>\n",
       "      <td>0</td>\n",
       "      <td>Travel_Frequently</td>\n",
       "      <td>Research &amp; Development</td>\n",
       "      <td>Life Sciences</td>\n",
       "      <td>3</td>\n",
       "      <td>Male</td>\n",
       "      <td>2</td>\n",
       "      <td>2</td>\n",
       "      <td>2</td>\n",
       "      <td>Married</td>\n",
       "      <td>5130</td>\n",
       "      <td>No</td>\n",
       "      <td>10</td>\n",
       "      <td>3</td>\n",
       "      <td>10</td>\n",
       "      <td>7</td>\n",
       "      <td>1</td>\n",
       "      <td>7</td>\n",
       "      <td>8</td>\n",
       "    </tr>\n",
       "    <tr>\n",
       "      <th>2</th>\n",
       "      <td>37</td>\n",
       "      <td>1</td>\n",
       "      <td>Travel_Rarely</td>\n",
       "      <td>Research &amp; Development</td>\n",
       "      <td>Other</td>\n",
       "      <td>4</td>\n",
       "      <td>Male</td>\n",
       "      <td>2</td>\n",
       "      <td>1</td>\n",
       "      <td>3</td>\n",
       "      <td>Single</td>\n",
       "      <td>2090</td>\n",
       "      <td>Yes</td>\n",
       "      <td>7</td>\n",
       "      <td>3</td>\n",
       "      <td>0</td>\n",
       "      <td>0</td>\n",
       "      <td>0</td>\n",
       "      <td>0</td>\n",
       "      <td>2</td>\n",
       "    </tr>\n",
       "    <tr>\n",
       "      <th>3</th>\n",
       "      <td>33</td>\n",
       "      <td>0</td>\n",
       "      <td>Travel_Frequently</td>\n",
       "      <td>Research &amp; Development</td>\n",
       "      <td>Life Sciences</td>\n",
       "      <td>4</td>\n",
       "      <td>Female</td>\n",
       "      <td>3</td>\n",
       "      <td>1</td>\n",
       "      <td>3</td>\n",
       "      <td>Married</td>\n",
       "      <td>2909</td>\n",
       "      <td>Yes</td>\n",
       "      <td>8</td>\n",
       "      <td>3</td>\n",
       "      <td>8</td>\n",
       "      <td>7</td>\n",
       "      <td>3</td>\n",
       "      <td>0</td>\n",
       "      <td>3</td>\n",
       "    </tr>\n",
       "    <tr>\n",
       "      <th>4</th>\n",
       "      <td>27</td>\n",
       "      <td>0</td>\n",
       "      <td>Travel_Rarely</td>\n",
       "      <td>Research &amp; Development</td>\n",
       "      <td>Medical</td>\n",
       "      <td>1</td>\n",
       "      <td>Male</td>\n",
       "      <td>3</td>\n",
       "      <td>1</td>\n",
       "      <td>2</td>\n",
       "      <td>Married</td>\n",
       "      <td>3468</td>\n",
       "      <td>No</td>\n",
       "      <td>6</td>\n",
       "      <td>3</td>\n",
       "      <td>2</td>\n",
       "      <td>2</td>\n",
       "      <td>2</td>\n",
       "      <td>2</td>\n",
       "      <td>2</td>\n",
       "    </tr>\n",
       "  </tbody>\n",
       "</table>\n",
       "</div>"
      ],
      "text/plain": [
       "   Age  Attrition     BusinessTravel              Department EducationField  \\\n",
       "0   41          1      Travel_Rarely                   Sales  Life Sciences   \n",
       "1   49          0  Travel_Frequently  Research & Development  Life Sciences   \n",
       "2   37          1      Travel_Rarely  Research & Development          Other   \n",
       "3   33          0  Travel_Frequently  Research & Development  Life Sciences   \n",
       "4   27          0      Travel_Rarely  Research & Development        Medical   \n",
       "\n",
       "   EnvironmentSatisfaction  Gender  JobInvolvement  JobLevel  JobSatisfaction  \\\n",
       "0                        2  Female               3         2                4   \n",
       "1                        3    Male               2         2                2   \n",
       "2                        4    Male               2         1                3   \n",
       "3                        4  Female               3         1                3   \n",
       "4                        1    Male               3         1                2   \n",
       "\n",
       "  MaritalStatus  MonthlyIncome OverTime  TotalWorkingYears  WorkLifeBalance  \\\n",
       "0        Single           5993      Yes                  8                1   \n",
       "1       Married           5130       No                 10                3   \n",
       "2        Single           2090      Yes                  7                3   \n",
       "3       Married           2909      Yes                  8                3   \n",
       "4       Married           3468       No                  6                3   \n",
       "\n",
       "   YearsAtCompany  YearsInCurrentRole  YearsSinceLastPromotion  \\\n",
       "0               6                   4                        0   \n",
       "1              10                   7                        1   \n",
       "2               0                   0                        0   \n",
       "3               8                   7                        3   \n",
       "4               2                   2                        2   \n",
       "\n",
       "   YearsWithCurrManager  DistanceFromHome  \n",
       "0                     5                 1  \n",
       "1                     7                 8  \n",
       "2                     0                 2  \n",
       "3                     0                 3  \n",
       "4                     2                 2  "
      ]
     },
     "execution_count": 58,
     "metadata": {},
     "output_type": "execute_result"
    }
   ],
   "source": [
    "df.head()"
   ]
  },
  {
   "cell_type": "code",
   "execution_count": null,
   "id": "2c79f4b3",
   "metadata": {},
   "outputs": [],
   "source": []
  },
  {
   "cell_type": "code",
   "execution_count": 59,
   "id": "ecd605e7",
   "metadata": {},
   "outputs": [
    {
     "data": {
      "text/plain": [
       "237"
      ]
     },
     "execution_count": 59,
     "metadata": {},
     "output_type": "execute_result"
    }
   ],
   "source": [
    "dff = df[(df['Attrition']==1)]\n",
    "len(dff)"
   ]
  },
  {
   "cell_type": "code",
   "execution_count": 60,
   "id": "afdfeccf",
   "metadata": {},
   "outputs": [
    {
     "data": {
      "text/plain": [
       "<AxesSubplot:>"
      ]
     },
     "execution_count": 60,
     "metadata": {},
     "output_type": "execute_result"
    },
    {
     "data": {
      "image/png": "[encoded data removed]",
      "text/plain": [
       "<Figure size 400x400 with 1 Axes>"
      ]
     },
     "metadata": {},
     "output_type": "display_data"
    }
   ],
   "source": [
    "(df['Attrition'].value_counts()).plot(kind='bar',figsize=(4,4),fontsize=13)"
   ]
  },
  {
   "cell_type": "code",
   "execution_count": 61,
   "id": "cf147040",
   "metadata": {},
   "outputs": [
    {
     "data": {
      "text/plain": [
       "0    1233\n",
       "1     237\n",
       "Name: Attrition, dtype: int64"
      ]
     },
     "execution_count": 61,
     "metadata": {},
     "output_type": "execute_result"
    }
   ],
   "source": [
    "(df['Attrition'].value_counts())"
   ]
  },
  {
   "cell_type": "code",
   "execution_count": 62,
   "id": "1250ceb1",
   "metadata": {},
   "outputs": [
    {
     "data": {
      "text/html": [
       "<div>\n",
       "<style scoped>\n",
       "    .dataframe tbody tr th:only-of-type {\n",
       "        vertical-align: middle;\n",
       "    }\n",
       "\n",
       "    .dataframe tbody tr th {\n",
       "        vertical-align: top;\n",
       "    }\n",
       "\n",
       "    .dataframe thead th {\n",
       "        text-align: right;\n",
       "    }\n",
       "</style>\n",
       "<table border=\"1\" class=\"dataframe\">\n",
       "  <thead>\n",
       "    <tr style=\"text-align: right;\">\n",
       "      <th></th>\n",
       "      <th>Age</th>\n",
       "      <th>Attrition</th>\n",
       "      <th>EnvironmentSatisfaction</th>\n",
       "      <th>JobInvolvement</th>\n",
       "      <th>JobLevel</th>\n",
       "      <th>JobSatisfaction</th>\n",
       "      <th>MonthlyIncome</th>\n",
       "      <th>TotalWorkingYears</th>\n",
       "      <th>WorkLifeBalance</th>\n",
       "      <th>YearsAtCompany</th>\n",
       "      <th>YearsInCurrentRole</th>\n",
       "      <th>YearsSinceLastPromotion</th>\n",
       "      <th>YearsWithCurrManager</th>\n",
       "      <th>DistanceFromHome</th>\n",
       "    </tr>\n",
       "  </thead>\n",
       "  <tbody>\n",
       "    <tr>\n",
       "      <th>count</th>\n",
       "      <td>1470.000000</td>\n",
       "      <td>1470.000000</td>\n",
       "      <td>1470.000000</td>\n",
       "      <td>1470.000000</td>\n",
       "      <td>1470.000000</td>\n",
       "      <td>1470.000000</td>\n",
       "      <td>1470.000000</td>\n",
       "      <td>1470.000000</td>\n",
       "      <td>1470.000000</td>\n",
       "      <td>1470.000000</td>\n",
       "      <td>1470.000000</td>\n",
       "      <td>1470.000000</td>\n",
       "      <td>1470.000000</td>\n",
       "      <td>1470.000000</td>\n",
       "    </tr>\n",
       "    <tr>\n",
       "      <th>mean</th>\n",
       "      <td>36.923810</td>\n",
       "      <td>0.161224</td>\n",
       "      <td>2.721769</td>\n",
       "      <td>2.729932</td>\n",
       "      <td>2.063946</td>\n",
       "      <td>2.728571</td>\n",
       "      <td>6502.931293</td>\n",
       "      <td>11.279592</td>\n",
       "      <td>2.761224</td>\n",
       "      <td>7.008163</td>\n",
       "      <td>4.229252</td>\n",
       "      <td>2.187755</td>\n",
       "      <td>4.123129</td>\n",
       "      <td>9.192517</td>\n",
       "    </tr>\n",
       "    <tr>\n",
       "      <th>std</th>\n",
       "      <td>9.135373</td>\n",
       "      <td>0.367863</td>\n",
       "      <td>1.093082</td>\n",
       "      <td>0.711561</td>\n",
       "      <td>1.106940</td>\n",
       "      <td>1.102846</td>\n",
       "      <td>4707.956783</td>\n",
       "      <td>7.780782</td>\n",
       "      <td>0.706476</td>\n",
       "      <td>6.126525</td>\n",
       "      <td>3.623137</td>\n",
       "      <td>3.222430</td>\n",
       "      <td>3.568136</td>\n",
       "      <td>8.106864</td>\n",
       "    </tr>\n",
       "    <tr>\n",
       "      <th>min</th>\n",
       "      <td>18.000000</td>\n",
       "      <td>0.000000</td>\n",
       "      <td>1.000000</td>\n",
       "      <td>1.000000</td>\n",
       "      <td>1.000000</td>\n",
       "      <td>1.000000</td>\n",
       "      <td>1009.000000</td>\n",
       "      <td>0.000000</td>\n",
       "      <td>1.000000</td>\n",
       "      <td>0.000000</td>\n",
       "      <td>0.000000</td>\n",
       "      <td>0.000000</td>\n",
       "      <td>0.000000</td>\n",
       "      <td>1.000000</td>\n",
       "    </tr>\n",
       "    <tr>\n",
       "      <th>25%</th>\n",
       "      <td>30.000000</td>\n",
       "      <td>0.000000</td>\n",
       "      <td>2.000000</td>\n",
       "      <td>2.000000</td>\n",
       "      <td>1.000000</td>\n",
       "      <td>2.000000</td>\n",
       "      <td>2911.000000</td>\n",
       "      <td>6.000000</td>\n",
       "      <td>2.000000</td>\n",
       "      <td>3.000000</td>\n",
       "      <td>2.000000</td>\n",
       "      <td>0.000000</td>\n",
       "      <td>2.000000</td>\n",
       "      <td>2.000000</td>\n",
       "    </tr>\n",
       "    <tr>\n",
       "      <th>50%</th>\n",
       "      <td>36.000000</td>\n",
       "      <td>0.000000</td>\n",
       "      <td>3.000000</td>\n",
       "      <td>3.000000</td>\n",
       "      <td>2.000000</td>\n",
       "      <td>3.000000</td>\n",
       "      <td>4919.000000</td>\n",
       "      <td>10.000000</td>\n",
       "      <td>3.000000</td>\n",
       "      <td>5.000000</td>\n",
       "      <td>3.000000</td>\n",
       "      <td>1.000000</td>\n",
       "      <td>3.000000</td>\n",
       "      <td>7.000000</td>\n",
       "    </tr>\n",
       "    <tr>\n",
       "      <th>75%</th>\n",
       "      <td>43.000000</td>\n",
       "      <td>0.000000</td>\n",
       "      <td>4.000000</td>\n",
       "      <td>3.000000</td>\n",
       "      <td>3.000000</td>\n",
       "      <td>4.000000</td>\n",
       "      <td>8379.000000</td>\n",
       "      <td>15.000000</td>\n",
       "      <td>3.000000</td>\n",
       "      <td>9.000000</td>\n",
       "      <td>7.000000</td>\n",
       "      <td>3.000000</td>\n",
       "      <td>7.000000</td>\n",
       "      <td>14.000000</td>\n",
       "    </tr>\n",
       "    <tr>\n",
       "      <th>max</th>\n",
       "      <td>60.000000</td>\n",
       "      <td>1.000000</td>\n",
       "      <td>4.000000</td>\n",
       "      <td>4.000000</td>\n",
       "      <td>5.000000</td>\n",
       "      <td>4.000000</td>\n",
       "      <td>19999.000000</td>\n",
       "      <td>40.000000</td>\n",
       "      <td>4.000000</td>\n",
       "      <td>40.000000</td>\n",
       "      <td>18.000000</td>\n",
       "      <td>15.000000</td>\n",
       "      <td>17.000000</td>\n",
       "      <td>29.000000</td>\n",
       "    </tr>\n",
       "  </tbody>\n",
       "</table>\n",
       "</div>"
      ],
      "text/plain": [
       "               Age    Attrition  EnvironmentSatisfaction  JobInvolvement  \\\n",
       "count  1470.000000  1470.000000              1470.000000     1470.000000   \n",
       "mean     36.923810     0.161224                 2.721769        2.729932   \n",
       "std       9.135373     0.367863                 1.093082        0.711561   \n",
       "min      18.000000     0.000000                 1.000000        1.000000   \n",
       "25%      30.000000     0.000000                 2.000000        2.000000   \n",
       "50%      36.000000     0.000000                 3.000000        3.000000   \n",
       "75%      43.000000     0.000000                 4.000000        3.000000   \n",
       "max      60.000000     1.000000                 4.000000        4.000000   \n",
       "\n",
       "          JobLevel  JobSatisfaction  MonthlyIncome  TotalWorkingYears  \\\n",
       "count  1470.000000      1470.000000    1470.000000        1470.000000   \n",
       "mean      2.063946         2.728571    6502.931293          11.279592   \n",
       "std       1.106940         1.102846    4707.956783           7.780782   \n",
       "min       1.000000         1.000000    1009.000000           0.000000   \n",
       "25%       1.000000         2.000000    2911.000000           6.000000   \n",
       "50%       2.000000         3.000000    4919.000000          10.000000   \n",
       "75%       3.000000         4.000000    8379.000000          15.000000   \n",
       "max       5.000000         4.000000   19999.000000          40.000000   \n",
       "\n",
       "       WorkLifeBalance  YearsAtCompany  YearsInCurrentRole  \\\n",
       "count      1470.000000     1470.000000         1470.000000   \n",
       "mean          2.761224        7.008163            4.229252   \n",
       "std           0.706476        6.126525            3.623137   \n",
       "min           1.000000        0.000000            0.000000   \n",
       "25%           2.000000        3.000000            2.000000   \n",
       "50%           3.000000        5.000000            3.000000   \n",
       "75%           3.000000        9.000000            7.000000   \n",
       "max           4.000000       40.000000           18.000000   \n",
       "\n",
       "       YearsSinceLastPromotion  YearsWithCurrManager  DistanceFromHome  \n",
       "count              1470.000000           1470.000000       1470.000000  \n",
       "mean                  2.187755              4.123129          9.192517  \n",
       "std                   3.222430              3.568136          8.106864  \n",
       "min                   0.000000              0.000000          1.000000  \n",
       "25%                   0.000000              2.000000          2.000000  \n",
       "50%                   1.000000              3.000000          7.000000  \n",
       "75%                   3.000000              7.000000         14.000000  \n",
       "max                  15.000000             17.000000         29.000000  "
      ]
     },
     "execution_count": 62,
     "metadata": {},
     "output_type": "execute_result"
    }
   ],
   "source": [
    "df.describe()"
   ]
  },
  {
   "cell_type": "code",
   "execution_count": 63,
   "id": "ff5c6dad",
   "metadata": {},
   "outputs": [
    {
     "data": {
      "text/plain": [
       "(1470, 20)"
      ]
     },
     "execution_count": 63,
     "metadata": {},
     "output_type": "execute_result"
    }
   ],
   "source": [
    "df.shape"
   ]
  },
  {
   "cell_type": "code",
   "execution_count": 64,
   "id": "c9d77038",
   "metadata": {},
   "outputs": [],
   "source": [
    "x = df.drop(['Attrition'],axis =1)"
   ]
  },
  {
   "cell_type": "code",
   "execution_count": 65,
   "id": "3ee948f9",
   "metadata": {},
   "outputs": [],
   "source": [
    "y = df.Attrition"
   ]
  },
  {
   "cell_type": "markdown",
   "id": "d784ca3c",
   "metadata": {},
   "source": [
    "## One hot encoding for categorical features"
   ]
  },
  {
   "cell_type": "code",
   "execution_count": 66,
   "id": "8cc74e0e",
   "metadata": {},
   "outputs": [],
   "source": [
    "x = pd.get_dummies(x, drop_first=False)"
   ]
  },
  {
   "cell_type": "code",
   "execution_count": 67,
   "id": "d147a23f",
   "metadata": {},
   "outputs": [],
   "source": [
    "from sklearn.model_selection import train_test_split"
   ]
  },
  {
   "cell_type": "code",
   "execution_count": 68,
   "id": "9b18cb59",
   "metadata": {},
   "outputs": [],
   "source": [
    "x_train,x_test,y_train,y_test = train_test_split(x,y, test_size = .2)"
   ]
  },
  {
   "cell_type": "code",
   "execution_count": 69,
   "id": "297fba74",
   "metadata": {},
   "outputs": [],
   "source": [
    "x_train, x_valid, y_train, y_valid = train_test_split(x_train, y_train, test_size =0.25)"
   ]
  },
  {
   "cell_type": "code",
   "execution_count": 70,
   "id": "cf0d07eb",
   "metadata": {},
   "outputs": [],
   "source": [
    "from sklearn.tree import DecisionTreeClassifier\n",
    "model =  DecisionTreeClassifier()"
   ]
  },
  {
   "cell_type": "code",
   "execution_count": 71,
   "id": "92b76a08",
   "metadata": {},
   "outputs": [
    {
     "data": {
      "text/plain": [
       "DecisionTreeClassifier()"
      ]
     },
     "execution_count": 71,
     "metadata": {},
     "output_type": "execute_result"
    }
   ],
   "source": [
    "model.fit(x_train,y_train)"
   ]
  },
  {
   "cell_type": "code",
   "execution_count": 72,
   "id": "73c416c9",
   "metadata": {},
   "outputs": [],
   "source": [
    "y_pred = model.predict(x_valid)"
   ]
  },
  {
   "cell_type": "code",
   "execution_count": 73,
   "id": "4979ecb1",
   "metadata": {},
   "outputs": [],
   "source": [
    "from sklearn.metrics import accuracy_score"
   ]
  },
  {
   "cell_type": "code",
   "execution_count": 74,
   "id": "f04be3c7",
   "metadata": {},
   "outputs": [
    {
     "data": {
      "text/plain": [
       "0.7585034013605442"
      ]
     },
     "execution_count": 74,
     "metadata": {},
     "output_type": "execute_result"
    }
   ],
   "source": [
    "accuracy_score(y_valid,y_pred)"
   ]
  },
  {
   "cell_type": "code",
   "execution_count": 75,
   "id": "f29d0082",
   "metadata": {},
   "outputs": [],
   "source": [
    "# from sklearn import tree\n",
    "\n",
    "# fig, axes = plt.subplots(figsize =(3,3), dpi =300)\n",
    "\n",
    "# tree.plot_tree(model, feature_names=list(x), filled = True)\n",
    "# plt.show()"
   ]
  },
  {
   "cell_type": "code",
   "execution_count": 76,
   "id": "f65194f4",
   "metadata": {},
   "outputs": [],
   "source": [
    "## Decison Tree wihtout optimal hyper parameter"
   ]
  },
  {
   "cell_type": "code",
   "execution_count": 77,
   "id": "602e03d4",
   "metadata": {},
   "outputs": [],
   "source": [
    "y_pred = model.predict(x_test)"
   ]
  },
  {
   "cell_type": "code",
   "execution_count": 78,
   "id": "9d92d23f",
   "metadata": {},
   "outputs": [],
   "source": [
    "from sklearn.metrics import accuracy_score"
   ]
  },
  {
   "cell_type": "code",
   "execution_count": 79,
   "id": "59ab8fd1",
   "metadata": {
    "scrolled": true
   },
   "outputs": [
    {
     "name": "stdout",
     "output_type": "stream",
     "text": [
      "accuracy score of decsion tree without any hyperparameter = 0.7925170068027211\n"
     ]
    }
   ],
   "source": [
    "## accuracy score of decsion tree without any hyperparameter\n",
    "print('accuracy score of decsion tree without any hyperparameter =',accuracy_score(y_test,y_pred))"
   ]
  },
  {
   "cell_type": "code",
   "execution_count": 80,
   "id": "8d04e3f9",
   "metadata": {},
   "outputs": [
    {
     "name": "stdout",
     "output_type": "stream",
     "text": [
      "              precision    recall  f1-score   support\n",
      "\n",
      "           0       0.88      0.87      0.87       244\n",
      "           1       0.40      0.42      0.41        50\n",
      "\n",
      "    accuracy                           0.79       294\n",
      "   macro avg       0.64      0.64      0.64       294\n",
      "weighted avg       0.80      0.79      0.79       294\n",
      "\n"
     ]
    }
   ],
   "source": [
    "print(classification_report(y_test,y_pred))"
   ]
  },
  {
   "cell_type": "markdown",
   "id": "5f0b10a8",
   "metadata": {},
   "source": [
    "## Finding optimal parameters for decison tree using grid search cv"
   ]
  },
  {
   "cell_type": "code",
   "execution_count": 81,
   "id": "83f0c20b",
   "metadata": {},
   "outputs": [],
   "source": [
    "parameters = {\"max_depth\":[2,3,4,5,6,7,8,9,10],\n",
    "             \"min_samples_split\":[2,5,10,15,20,25,50],\n",
    "             \"min_samples_leaf\": [2,5,10,15,20,25,50,100],\n",
    "              \"criterion\" : [\"gini\",\"entropy\"]\n",
    "             }"
   ]
  },
  {
   "cell_type": "code",
   "execution_count": 82,
   "id": "8fc5ec5e",
   "metadata": {},
   "outputs": [],
   "source": [
    "from sklearn.model_selection import GridSearchCV"
   ]
  },
  {
   "cell_type": "code",
   "execution_count": 83,
   "id": "8fc9ad0d",
   "metadata": {},
   "outputs": [],
   "source": [
    "grid = GridSearchCV(model, param_grid= parameters, cv=10, n_jobs= -1)"
   ]
  },
  {
   "cell_type": "code",
   "execution_count": 84,
   "id": "547d8920",
   "metadata": {},
   "outputs": [
    {
     "data": {
      "text/plain": [
       "GridSearchCV(cv=10, estimator=DecisionTreeClassifier(), n_jobs=-1,\n",
       "             param_grid={'criterion': ['gini', 'entropy'],\n",
       "                         'max_depth': [2, 3, 4, 5, 6, 7, 8, 9, 10],\n",
       "                         'min_samples_leaf': [2, 5, 10, 15, 20, 25, 50, 100],\n",
       "                         'min_samples_split': [2, 5, 10, 15, 20, 25, 50]})"
      ]
     },
     "execution_count": 84,
     "metadata": {},
     "output_type": "execute_result"
    }
   ],
   "source": [
    "grid.fit(x_train,y_train)"
   ]
  },
  {
   "cell_type": "code",
   "execution_count": 85,
   "id": "d02fef9b",
   "metadata": {},
   "outputs": [
    {
     "data": {
      "text/plain": [
       "DecisionTreeClassifier(max_depth=5, min_samples_leaf=10, min_samples_split=50)"
      ]
     },
     "execution_count": 85,
     "metadata": {},
     "output_type": "execute_result"
    }
   ],
   "source": [
    "grid.best_estimator_"
   ]
  },
  {
   "cell_type": "code",
   "execution_count": 86,
   "id": "8cd3bd02",
   "metadata": {},
   "outputs": [
    {
     "data": {
      "text/plain": [
       "0.8424412665985699"
      ]
     },
     "execution_count": 86,
     "metadata": {},
     "output_type": "execute_result"
    }
   ],
   "source": [
    "grid.best_score_"
   ]
  },
  {
   "cell_type": "code",
   "execution_count": 87,
   "id": "48980cf5",
   "metadata": {},
   "outputs": [
    {
     "data": {
      "text/plain": [
       "{'criterion': 'gini',\n",
       " 'max_depth': 5,\n",
       " 'min_samples_leaf': 10,\n",
       " 'min_samples_split': 50}"
      ]
     },
     "execution_count": 87,
     "metadata": {},
     "output_type": "execute_result"
    }
   ],
   "source": [
    "## Best parameters for the decision tree are as follows:\n",
    "grid.best_params_"
   ]
  },
  {
   "cell_type": "markdown",
   "id": "8f67c6d9",
   "metadata": {},
   "source": [
    "## Fitting decison tree with above optimal parameters"
   ]
  },
  {
   "cell_type": "code",
   "execution_count": 88,
   "id": "308fe20b",
   "metadata": {},
   "outputs": [],
   "source": [
    "model_optimal =  DecisionTreeClassifier(criterion='entropy', max_depth=5,min_samples_leaf =5,min_samples_split = 50)"
   ]
  },
  {
   "cell_type": "code",
   "execution_count": 89,
   "id": "6b60c8de",
   "metadata": {},
   "outputs": [
    {
     "data": {
      "text/plain": [
       "DecisionTreeClassifier(criterion='entropy', max_depth=5, min_samples_leaf=5,\n",
       "                       min_samples_split=50)"
      ]
     },
     "execution_count": 89,
     "metadata": {},
     "output_type": "execute_result"
    }
   ],
   "source": [
    "model_optimal.fit(x_train,y_train)"
   ]
  },
  {
   "cell_type": "code",
   "execution_count": 90,
   "id": "8d235c5f",
   "metadata": {},
   "outputs": [],
   "source": [
    "y_pred = model_optimal.predict(x_valid)"
   ]
  },
  {
   "cell_type": "code",
   "execution_count": 91,
   "id": "b763efdb",
   "metadata": {},
   "outputs": [
    {
     "data": {
      "text/plain": [
       "0.8741496598639455"
      ]
     },
     "execution_count": 91,
     "metadata": {},
     "output_type": "execute_result"
    }
   ],
   "source": [
    "accuracy_score(y_valid,y_pred)"
   ]
  },
  {
   "cell_type": "code",
   "execution_count": 92,
   "id": "f8a344ff",
   "metadata": {},
   "outputs": [],
   "source": [
    "## Decison Tree wiht optimal hyper parameter"
   ]
  },
  {
   "cell_type": "code",
   "execution_count": 93,
   "id": "5f6d410d",
   "metadata": {},
   "outputs": [],
   "source": [
    "y_pred = model_optimal.predict(x_test)"
   ]
  },
  {
   "cell_type": "code",
   "execution_count": 94,
   "id": "8bf190b9",
   "metadata": {},
   "outputs": [
    {
     "name": "stdout",
     "output_type": "stream",
     "text": [
      "accuracy score of decion tree with optimal hyperparameter = 0.8503401360544217\n"
     ]
    }
   ],
   "source": [
    "## accuracy score of decsion tree with optimal hyperparameter\n",
    "print('accuracy score of decion tree with optimal hyperparameter =',accuracy_score(y_test,y_pred))"
   ]
  },
  {
   "cell_type": "code",
   "execution_count": 95,
   "id": "6d360813",
   "metadata": {},
   "outputs": [
    {
     "name": "stdout",
     "output_type": "stream",
     "text": [
      "              precision    recall  f1-score   support\n",
      "\n",
      "           0       0.86      0.97      0.92       244\n",
      "           1       0.65      0.26      0.37        50\n",
      "\n",
      "    accuracy                           0.85       294\n",
      "   macro avg       0.76      0.62      0.64       294\n",
      "weighted avg       0.83      0.85      0.82       294\n",
      "\n"
     ]
    }
   ],
   "source": [
    "print(classification_report(y_test,y_pred))"
   ]
  },
  {
   "cell_type": "code",
   "execution_count": null,
   "id": "9614b37c",
   "metadata": {},
   "outputs": [],
   "source": []
  },
  {
   "cell_type": "markdown",
   "id": "8bfbcd0a",
   "metadata": {},
   "source": [
    "## Random Forest"
   ]
  },
  {
   "cell_type": "code",
   "execution_count": 97,
   "id": "12e10575",
   "metadata": {},
   "outputs": [],
   "source": [
    "from sklearn.ensemble import RandomForestClassifier "
   ]
  },
  {
   "cell_type": "code",
   "execution_count": 98,
   "id": "1150a626",
   "metadata": {},
   "outputs": [],
   "source": [
    "modelrf = RandomForestClassifier()"
   ]
  },
  {
   "cell_type": "code",
   "execution_count": 99,
   "id": "02d6a16c",
   "metadata": {},
   "outputs": [
    {
     "data": {
      "text/plain": [
       "RandomForestClassifier()"
      ]
     },
     "execution_count": 99,
     "metadata": {},
     "output_type": "execute_result"
    }
   ],
   "source": [
    "modelrf.fit(x_train,y_train)"
   ]
  },
  {
   "cell_type": "code",
   "execution_count": 100,
   "id": "0548175e",
   "metadata": {},
   "outputs": [],
   "source": [
    "y_pred = modelrf.predict(x_valid)"
   ]
  },
  {
   "cell_type": "code",
   "execution_count": 101,
   "id": "3b000c88",
   "metadata": {},
   "outputs": [
    {
     "data": {
      "text/plain": [
       "0.8877551020408163"
      ]
     },
     "execution_count": 101,
     "metadata": {},
     "output_type": "execute_result"
    }
   ],
   "source": [
    "accuracy_score(y_valid,y_pred)"
   ]
  },
  {
   "cell_type": "code",
   "execution_count": 102,
   "id": "1a2a7ee0",
   "metadata": {},
   "outputs": [],
   "source": [
    "## Random Forest wihtoptimal hyper parameter"
   ]
  },
  {
   "cell_type": "code",
   "execution_count": 103,
   "id": "2846110a",
   "metadata": {},
   "outputs": [],
   "source": [
    "y_pred = modelrf.predict(x_test)"
   ]
  },
  {
   "cell_type": "code",
   "execution_count": 104,
   "id": "d296602a",
   "metadata": {},
   "outputs": [
    {
     "name": "stdout",
     "output_type": "stream",
     "text": [
      "accuracy score of random forest with optimal hyperparameter = 0.8571428571428571\n"
     ]
    }
   ],
   "source": [
    "## accuracy score of random forest without optimal hyperparameter\n",
    "print('accuracy score of random forest with optimal hyperparameter =',accuracy_score(y_test,y_pred))"
   ]
  },
  {
   "cell_type": "code",
   "execution_count": 105,
   "id": "4f8c0dc7",
   "metadata": {},
   "outputs": [
    {
     "name": "stdout",
     "output_type": "stream",
     "text": [
      "              precision    recall  f1-score   support\n",
      "\n",
      "           0       0.86      0.99      0.92       244\n",
      "           1       0.83      0.20      0.32        50\n",
      "\n",
      "    accuracy                           0.86       294\n",
      "   macro avg       0.85      0.60      0.62       294\n",
      "weighted avg       0.85      0.86      0.82       294\n",
      "\n"
     ]
    }
   ],
   "source": [
    "print(classification_report(y_test,y_pred))"
   ]
  },
  {
   "cell_type": "markdown",
   "id": "ed82e213",
   "metadata": {},
   "source": [
    "## Finding optimal parameters for random forest using grid search cv"
   ]
  },
  {
   "cell_type": "code",
   "execution_count": 106,
   "id": "4d1dc80d",
   "metadata": {},
   "outputs": [],
   "source": [
    "parametersrf = {\"max_depth\":[2,3,4,5,6,7,8,9,10],\n",
    "             \"min_samples_split\":[2,5,10,15,20,25,50],\n",
    "             \"min_samples_leaf\": [2,5,10,15,20,25,50,100],\n",
    "              \"criterion\" : [\"gini\",\"entropy\"],\n",
    "              \"n_estimators\": [100,125,150,175,200,250,300],\n",
    "                \"bootstrap\" : [\"True\",\"False\"],\n",
    "                \"max_samples\": [200,300,400,500,600,800]\n",
    "             }"
   ]
  },
  {
   "cell_type": "code",
   "execution_count": 112,
   "id": "a70cf8be",
   "metadata": {},
   "outputs": [],
   "source": [
    "from sklearn.model_selection import RandomizedSearchCV"
   ]
  },
  {
   "cell_type": "code",
   "execution_count": 113,
   "id": "0921eccb",
   "metadata": {},
   "outputs": [],
   "source": [
    "gridrf = RandomizedSearchCV(modelrf, param_distributions= parametersrf, cv=10, n_jobs= -1)"
   ]
  },
  {
   "cell_type": "code",
   "execution_count": 114,
   "id": "6903a221",
   "metadata": {},
   "outputs": [
    {
     "data": {
      "text/plain": [
       "RandomizedSearchCV(cv=10, estimator=RandomForestClassifier(), n_jobs=-1,\n",
       "                   param_distributions={'bootstrap': ['True', 'False'],\n",
       "                                        'criterion': ['gini', 'entropy'],\n",
       "                                        'max_depth': [2, 3, 4, 5, 6, 7, 8, 9,\n",
       "                                                      10],\n",
       "                                        'max_samples': [200, 300, 400, 500, 600,\n",
       "                                                        800],\n",
       "                                        'min_samples_leaf': [2, 5, 10, 15, 20,\n",
       "                                                             25, 50, 100],\n",
       "                                        'min_samples_split': [2, 5, 10, 15, 20,\n",
       "                                                              25, 50],\n",
       "                                        'n_estimators': [100, 125, 150, 175,\n",
       "                                                         200, 250, 300]})"
      ]
     },
     "execution_count": 114,
     "metadata": {},
     "output_type": "execute_result"
    }
   ],
   "source": [
    "gridrf.fit(x_train,y_train)"
   ]
  },
  {
   "cell_type": "code",
   "execution_count": 115,
   "id": "43d39ac5",
   "metadata": {},
   "outputs": [
    {
     "data": {
      "text/plain": [
       "RandomForestClassifier(bootstrap='False', max_depth=9, max_samples=600,\n",
       "                       min_samples_leaf=5)"
      ]
     },
     "execution_count": 115,
     "metadata": {},
     "output_type": "execute_result"
    }
   ],
   "source": [
    "gridrf.best_estimator_"
   ]
  },
  {
   "cell_type": "code",
   "execution_count": 116,
   "id": "bcd99c1d",
   "metadata": {},
   "outputs": [
    {
     "data": {
      "text/plain": [
       "0.8469228804902962"
      ]
     },
     "execution_count": 116,
     "metadata": {},
     "output_type": "execute_result"
    }
   ],
   "source": [
    "gridrf.best_score_"
   ]
  },
  {
   "cell_type": "code",
   "execution_count": 117,
   "id": "d5204824",
   "metadata": {},
   "outputs": [
    {
     "data": {
      "text/plain": [
       "{'n_estimators': 100,\n",
       " 'min_samples_split': 2,\n",
       " 'min_samples_leaf': 5,\n",
       " 'max_samples': 600,\n",
       " 'max_depth': 9,\n",
       " 'criterion': 'gini',\n",
       " 'bootstrap': 'False'}"
      ]
     },
     "execution_count": 117,
     "metadata": {},
     "output_type": "execute_result"
    }
   ],
   "source": [
    "## Best parameters for the adaboost are as follows:\n",
    "gridrf.best_params_"
   ]
  },
  {
   "cell_type": "markdown",
   "id": "e20bb095",
   "metadata": {},
   "source": [
    "## Fitting random forest with the  above optimal hyper parameter"
   ]
  },
  {
   "cell_type": "code",
   "execution_count": 118,
   "id": "a6e274e0",
   "metadata": {},
   "outputs": [],
   "source": [
    "modelrf = RandomForestClassifier(n_estimators=100,min_samples_split = 2,min_samples_leaf = 5,max_samples = 600,max_depth =9,\n",
    "                                criterion = 'gini',bootstrap = 'False')"
   ]
  },
  {
   "cell_type": "code",
   "execution_count": 119,
   "id": "578c62b1",
   "metadata": {},
   "outputs": [
    {
     "data": {
      "text/plain": [
       "RandomForestClassifier(bootstrap='False', max_depth=9, max_samples=600,\n",
       "                       min_samples_leaf=5)"
      ]
     },
     "execution_count": 119,
     "metadata": {},
     "output_type": "execute_result"
    }
   ],
   "source": [
    "modelrf.fit(x_train,y_train)"
   ]
  },
  {
   "cell_type": "code",
   "execution_count": 120,
   "id": "8f4816d4",
   "metadata": {},
   "outputs": [],
   "source": [
    "y_pred = modelrf.predict(x_valid)"
   ]
  },
  {
   "cell_type": "code",
   "execution_count": 121,
   "id": "d7dfe1d3",
   "metadata": {},
   "outputs": [
    {
     "data": {
      "text/plain": [
       "0.8843537414965986"
      ]
     },
     "execution_count": 121,
     "metadata": {},
     "output_type": "execute_result"
    }
   ],
   "source": [
    "accuracy_score(y_valid,y_pred)"
   ]
  },
  {
   "cell_type": "code",
   "execution_count": 122,
   "id": "b695534a",
   "metadata": {},
   "outputs": [],
   "source": [
    "## Random forest with optimal hyper parameter"
   ]
  },
  {
   "cell_type": "code",
   "execution_count": 123,
   "id": "7da60a1c",
   "metadata": {},
   "outputs": [],
   "source": [
    "y_pred = modelrf.predict(x_test)"
   ]
  },
  {
   "cell_type": "code",
   "execution_count": 124,
   "id": "4c962561",
   "metadata": {},
   "outputs": [
    {
     "name": "stdout",
     "output_type": "stream",
     "text": [
      "accuracy score of random forest with optimal hyperparameter = 0.8537414965986394\n"
     ]
    }
   ],
   "source": [
    "## accuracy score of random forest with optimal hyperparameter\n",
    "print('accuracy score of random forest with optimal hyperparameter =',accuracy_score(y_test,y_pred))"
   ]
  },
  {
   "cell_type": "code",
   "execution_count": 125,
   "id": "5ed03b5f",
   "metadata": {},
   "outputs": [
    {
     "name": "stdout",
     "output_type": "stream",
     "text": [
      "              precision    recall  f1-score   support\n",
      "\n",
      "           0       0.86      0.99      0.92       244\n",
      "           1       0.77      0.20      0.32        50\n",
      "\n",
      "    accuracy                           0.85       294\n",
      "   macro avg       0.81      0.59      0.62       294\n",
      "weighted avg       0.84      0.85      0.82       294\n",
      "\n"
     ]
    }
   ],
   "source": [
    "print(classification_report(y_test,y_pred))"
   ]
  },
  {
   "cell_type": "markdown",
   "id": "8cb3ce36",
   "metadata": {},
   "source": [
    "## Adaboost"
   ]
  },
  {
   "cell_type": "code",
   "execution_count": 126,
   "id": "6b81267e",
   "metadata": {},
   "outputs": [],
   "source": [
    "from sklearn.ensemble import AdaBoostClassifier"
   ]
  },
  {
   "cell_type": "code",
   "execution_count": 127,
   "id": "fae04aa1",
   "metadata": {},
   "outputs": [],
   "source": [
    "modelad = AdaBoostClassifier()"
   ]
  },
  {
   "cell_type": "code",
   "execution_count": 128,
   "id": "64bcda07",
   "metadata": {},
   "outputs": [
    {
     "data": {
      "text/plain": [
       "AdaBoostClassifier()"
      ]
     },
     "execution_count": 128,
     "metadata": {},
     "output_type": "execute_result"
    }
   ],
   "source": [
    "modelad.fit(x_train,y_train)"
   ]
  },
  {
   "cell_type": "code",
   "execution_count": 129,
   "id": "728a010a",
   "metadata": {},
   "outputs": [],
   "source": [
    "y_pred = modelad.predict(x_valid)"
   ]
  },
  {
   "cell_type": "code",
   "execution_count": 130,
   "id": "9964e654",
   "metadata": {},
   "outputs": [
    {
     "data": {
      "text/plain": [
       "0.8673469387755102"
      ]
     },
     "execution_count": 130,
     "metadata": {},
     "output_type": "execute_result"
    }
   ],
   "source": [
    "accuracy_score(y_valid,y_pred)"
   ]
  },
  {
   "cell_type": "code",
   "execution_count": 131,
   "id": "c4c29f8d",
   "metadata": {},
   "outputs": [],
   "source": [
    "##  adaboost without hyper parameter"
   ]
  },
  {
   "cell_type": "code",
   "execution_count": 132,
   "id": "9e89cd70",
   "metadata": {},
   "outputs": [],
   "source": [
    "y_pred = modelad.predict(x_test)"
   ]
  },
  {
   "cell_type": "code",
   "execution_count": 133,
   "id": "12ecb623",
   "metadata": {},
   "outputs": [
    {
     "name": "stdout",
     "output_type": "stream",
     "text": [
      "accuracy score of random forest with optimal hyperparameter = 0.8775510204081632\n"
     ]
    }
   ],
   "source": [
    "## accuracy score of adaboost without optimal hyperparameter\n",
    "print('accuracy score of random forest with optimal hyperparameter =',accuracy_score(y_test,y_pred))"
   ]
  },
  {
   "cell_type": "code",
   "execution_count": 134,
   "id": "96634091",
   "metadata": {},
   "outputs": [
    {
     "name": "stdout",
     "output_type": "stream",
     "text": [
      "              precision    recall  f1-score   support\n",
      "\n",
      "           0       0.90      0.96      0.93       244\n",
      "           1       0.71      0.48      0.57        50\n",
      "\n",
      "    accuracy                           0.88       294\n",
      "   macro avg       0.80      0.72      0.75       294\n",
      "weighted avg       0.87      0.88      0.87       294\n",
      "\n"
     ]
    }
   ],
   "source": [
    "print(classification_report(y_test,y_pred))"
   ]
  },
  {
   "cell_type": "code",
   "execution_count": 140,
   "id": "e2bfe88e",
   "metadata": {},
   "outputs": [
    {
     "data": {
      "text/plain": [
       "0.5714285714285713"
      ]
     },
     "execution_count": 140,
     "metadata": {},
     "output_type": "execute_result"
    }
   ],
   "source": [
    "f1_score(y_test, y_pred)"
   ]
  },
  {
   "cell_type": "markdown",
   "id": "478d37d5",
   "metadata": {},
   "source": [
    "## Finding optimal parameter for the adaboost"
   ]
  },
  {
   "cell_type": "code",
   "execution_count": 141,
   "id": "fd4e733e",
   "metadata": {},
   "outputs": [],
   "source": [
    "parameters = {\"n_estimators\":[10,50,100,500],\n",
    "             \"learning_rate\":[.0001,.001,.01,1],\n",
    "             \"algorithm\": ['SAMME','SAMME.R']}"
   ]
  },
  {
   "cell_type": "code",
   "execution_count": 142,
   "id": "dd40f5f8",
   "metadata": {},
   "outputs": [],
   "source": [
    "from sklearn.model_selection import GridSearchCV"
   ]
  },
  {
   "cell_type": "code",
   "execution_count": 143,
   "id": "65030419",
   "metadata": {},
   "outputs": [],
   "source": [
    "grid = GridSearchCV(modelad, param_grid= parameters, cv=10, n_jobs= -1)"
   ]
  },
  {
   "cell_type": "code",
   "execution_count": 144,
   "id": "ed155d46",
   "metadata": {},
   "outputs": [
    {
     "data": {
      "text/plain": [
       "GridSearchCV(cv=10, estimator=AdaBoostClassifier(), n_jobs=-1,\n",
       "             param_grid={'algorithm': ['SAMME', 'SAMME.R'],\n",
       "                         'learning_rate': [0.0001, 0.001, 0.01, 1],\n",
       "                         'n_estimators': [10, 50, 100, 500]})"
      ]
     },
     "execution_count": 144,
     "metadata": {},
     "output_type": "execute_result"
    }
   ],
   "source": [
    "grid.fit(x_train,y_train)"
   ]
  },
  {
   "cell_type": "code",
   "execution_count": 145,
   "id": "417842d5",
   "metadata": {},
   "outputs": [
    {
     "data": {
      "text/plain": [
       "AdaBoostClassifier(algorithm='SAMME', learning_rate=1, n_estimators=500)"
      ]
     },
     "execution_count": 145,
     "metadata": {},
     "output_type": "execute_result"
    }
   ],
   "source": [
    "grid.best_estimator_"
   ]
  },
  {
   "cell_type": "code",
   "execution_count": 146,
   "id": "4aaad3a0",
   "metadata": {},
   "outputs": [
    {
     "data": {
      "text/plain": [
       "0.859397344228805"
      ]
     },
     "execution_count": 146,
     "metadata": {},
     "output_type": "execute_result"
    }
   ],
   "source": [
    "grid.best_score_"
   ]
  },
  {
   "cell_type": "code",
   "execution_count": 147,
   "id": "a6e9e927",
   "metadata": {},
   "outputs": [
    {
     "data": {
      "text/plain": [
       "{'algorithm': 'SAMME', 'learning_rate': 1, 'n_estimators': 500}"
      ]
     },
     "execution_count": 147,
     "metadata": {},
     "output_type": "execute_result"
    }
   ],
   "source": [
    "## Best parameters for the adaboost are as follows:\n",
    "grid.best_params_"
   ]
  },
  {
   "cell_type": "markdown",
   "id": "d6c7b7ba",
   "metadata": {},
   "source": [
    "## Fitting the adaboost on the above optimal hyper parameters"
   ]
  },
  {
   "cell_type": "code",
   "execution_count": 149,
   "id": "0c3b69d0",
   "metadata": {},
   "outputs": [],
   "source": [
    "modeladopt = AdaBoostClassifier(algorithm='SAMME',learning_rate= 1,n_estimators= 500)"
   ]
  },
  {
   "cell_type": "code",
   "execution_count": 150,
   "id": "e571728c",
   "metadata": {},
   "outputs": [
    {
     "data": {
      "text/plain": [
       "AdaBoostClassifier(algorithm='SAMME', learning_rate=1, n_estimators=500)"
      ]
     },
     "execution_count": 150,
     "metadata": {},
     "output_type": "execute_result"
    }
   ],
   "source": [
    "modeladopt.fit(x_train,y_train)"
   ]
  },
  {
   "cell_type": "code",
   "execution_count": 151,
   "id": "6bedb2a8",
   "metadata": {},
   "outputs": [],
   "source": [
    "y_pred = modeladopt.predict(x_valid)"
   ]
  },
  {
   "cell_type": "code",
   "execution_count": 152,
   "id": "42e4f809",
   "metadata": {},
   "outputs": [
    {
     "data": {
      "text/plain": [
       "0.8639455782312925"
      ]
     },
     "execution_count": 152,
     "metadata": {},
     "output_type": "execute_result"
    }
   ],
   "source": [
    "accuracy_score(y_valid,y_pred)"
   ]
  },
  {
   "cell_type": "code",
   "execution_count": 153,
   "id": "73604568",
   "metadata": {},
   "outputs": [],
   "source": [
    "## Decison Tree adaboost without hyper parameter"
   ]
  },
  {
   "cell_type": "code",
   "execution_count": 154,
   "id": "bdcf79b3",
   "metadata": {},
   "outputs": [],
   "source": [
    "y_pred = modeladopt.predict(x_test)"
   ]
  },
  {
   "cell_type": "code",
   "execution_count": 155,
   "id": "15df53bf",
   "metadata": {},
   "outputs": [
    {
     "name": "stdout",
     "output_type": "stream",
     "text": [
      "accuracy score of adaboost with optimal hyperparameter = 0.8741496598639455\n"
     ]
    }
   ],
   "source": [
    "## accuracy score of adaboost without optimal hyperparameter\n",
    "print('accuracy score of adaboost with optimal hyperparameter =',accuracy_score(y_test,y_pred))"
   ]
  },
  {
   "cell_type": "code",
   "execution_count": 156,
   "id": "675b660a",
   "metadata": {},
   "outputs": [
    {
     "name": "stdout",
     "output_type": "stream",
     "text": [
      "              precision    recall  f1-score   support\n",
      "\n",
      "           0       0.89      0.96      0.93       244\n",
      "           1       0.71      0.44      0.54        50\n",
      "\n",
      "    accuracy                           0.87       294\n",
      "   macro avg       0.80      0.70      0.74       294\n",
      "weighted avg       0.86      0.87      0.86       294\n",
      "\n"
     ]
    }
   ],
   "source": [
    "print(classification_report(y_test,y_pred))"
   ]
  },
  {
   "cell_type": "code",
   "execution_count": 158,
   "id": "aeed4e5f",
   "metadata": {},
   "outputs": [
    {
     "data": {
      "text/plain": [
       "0.5432098765432098"
      ]
     },
     "execution_count": 158,
     "metadata": {},
     "output_type": "execute_result"
    }
   ],
   "source": [
    "f1_score(y_pred,y_test)"
   ]
  },
  {
   "cell_type": "markdown",
   "id": "acb00e47",
   "metadata": {},
   "source": [
    "## Conclusion\n",
    "After applying decision tree, random forest and adaboost classifier best f1 score is given by the adbaoost model."
   ]
  },
  {
   "cell_type": "markdown",
   "id": "97c4bb42",
   "metadata": {},
   "source": [
    "## Applying SMOTE oversampling to handle the imbalanced data set"
   ]
  },
  {
   "cell_type": "code",
   "execution_count": 31,
   "id": "01a63803",
   "metadata": {},
   "outputs": [],
   "source": [
    "#! pip install imblearn"
   ]
  },
  {
   "cell_type": "code",
   "execution_count": 52,
   "id": "3340384f",
   "metadata": {},
   "outputs": [
    {
     "data": {
      "text/plain": [
       "0    741\n",
       "1    141\n",
       "Name: Attrition, dtype: int64"
      ]
     },
     "execution_count": 52,
     "metadata": {},
     "output_type": "execute_result"
    }
   ],
   "source": [
    "y_train.value_counts()"
   ]
  },
  {
   "cell_type": "code",
   "execution_count": 32,
   "id": "86affbbc",
   "metadata": {},
   "outputs": [],
   "source": [
    "from imblearn.over_sampling import SMOTE"
   ]
  },
  {
   "cell_type": "code",
   "execution_count": 35,
   "id": "b13f5967",
   "metadata": {},
   "outputs": [],
   "source": [
    "sm = SMOTE()"
   ]
  },
  {
   "cell_type": "code",
   "execution_count": 56,
   "id": "9caaecf8",
   "metadata": {},
   "outputs": [],
   "source": [
    "x_train_sm, y_train_sm = sm.fit_resample(x_train, y_train)"
   ]
  },
  {
   "cell_type": "code",
   "execution_count": 57,
   "id": "4df1f5ab",
   "metadata": {},
   "outputs": [
    {
     "data": {
      "text/plain": [
       "0    741\n",
       "1    741\n",
       "Name: Attrition, dtype: int64"
      ]
     },
     "execution_count": 57,
     "metadata": {},
     "output_type": "execute_result"
    }
   ],
   "source": [
    "y_train_sm.value_counts()"
   ]
  },
  {
   "cell_type": "markdown",
   "id": "c7103250",
   "metadata": {},
   "source": [
    "## Decision Tree after SMOTE"
   ]
  },
  {
   "cell_type": "code",
   "execution_count": 159,
   "id": "79691bcf",
   "metadata": {},
   "outputs": [],
   "source": [
    "from sklearn.tree import DecisionTreeClassifier\n",
    "model =  DecisionTreeClassifier()"
   ]
  },
  {
   "cell_type": "code",
   "execution_count": 160,
   "id": "f432aefa",
   "metadata": {},
   "outputs": [
    {
     "data": {
      "text/plain": [
       "DecisionTreeClassifier()"
      ]
     },
     "execution_count": 160,
     "metadata": {},
     "output_type": "execute_result"
    }
   ],
   "source": [
    "model.fit(x_train_sm,y_train_sm)"
   ]
  },
  {
   "cell_type": "code",
   "execution_count": 161,
   "id": "48ee2984",
   "metadata": {},
   "outputs": [],
   "source": [
    "y_pred = model.predict(x_valid)"
   ]
  },
  {
   "cell_type": "code",
   "execution_count": 162,
   "id": "81b613f1",
   "metadata": {},
   "outputs": [],
   "source": [
    "from sklearn.metrics import accuracy_score"
   ]
  },
  {
   "cell_type": "code",
   "execution_count": 163,
   "id": "82353e28",
   "metadata": {},
   "outputs": [
    {
     "data": {
      "text/plain": [
       "0.935374149659864"
      ]
     },
     "execution_count": 163,
     "metadata": {},
     "output_type": "execute_result"
    }
   ],
   "source": [
    "accuracy_score(y_valid,y_pred)"
   ]
  },
  {
   "cell_type": "code",
   "execution_count": 164,
   "id": "dc9ef9a3",
   "metadata": {},
   "outputs": [],
   "source": [
    "# from sklearn import tree\n",
    "\n",
    "# fig, axes = plt.subplots(figsize =(3,3), dpi =300)\n",
    "\n",
    "# tree.plot_tree(model, feature_names=list(x), filled = True)\n",
    "# plt.show()"
   ]
  },
  {
   "cell_type": "code",
   "execution_count": 165,
   "id": "dbae8a1b",
   "metadata": {},
   "outputs": [],
   "source": [
    "## Decison Tree wihtout optimal hyper parameter"
   ]
  },
  {
   "cell_type": "code",
   "execution_count": 169,
   "id": "fc6661ce",
   "metadata": {},
   "outputs": [],
   "source": [
    "y_pred = model.predict(x_test)"
   ]
  },
  {
   "cell_type": "code",
   "execution_count": 170,
   "id": "1b70db38",
   "metadata": {},
   "outputs": [],
   "source": [
    "from sklearn.metrics import accuracy_score"
   ]
  },
  {
   "cell_type": "code",
   "execution_count": 171,
   "id": "e17ffb19",
   "metadata": {
    "scrolled": true
   },
   "outputs": [
    {
     "name": "stdout",
     "output_type": "stream",
     "text": [
      "accuracy score of decsion tree without any hyperparameter = 0.9251700680272109\n"
     ]
    }
   ],
   "source": [
    "## accuracy score of decsion tree without any hyperparameter\n",
    "print('accuracy score of decsion tree without any hyperparameter =',accuracy_score(y_test,y_pred))"
   ]
  },
  {
   "cell_type": "code",
   "execution_count": 173,
   "id": "0731b490",
   "metadata": {},
   "outputs": [
    {
     "name": "stdout",
     "output_type": "stream",
     "text": [
      "              precision    recall  f1-score   support\n",
      "\n",
      "           0       0.96      0.95      0.95       244\n",
      "           1       0.77      0.80      0.78        50\n",
      "\n",
      "    accuracy                           0.93       294\n",
      "   macro avg       0.86      0.88      0.87       294\n",
      "weighted avg       0.93      0.93      0.93       294\n",
      "\n"
     ]
    }
   ],
   "source": [
    "print(classification_report(y_test,y_pred))"
   ]
  },
  {
   "cell_type": "markdown",
   "id": "50e7007a",
   "metadata": {},
   "source": [
    "## Finding optimal parameters for decison tree using grid search cv"
   ]
  },
  {
   "cell_type": "code",
   "execution_count": 174,
   "id": "05fe4d61",
   "metadata": {},
   "outputs": [],
   "source": [
    "parameters = {\"max_depth\":[2,3,4,5,6,7,8,9,10],\n",
    "             \"min_samples_split\":[2,5,10,15,20,25,50],\n",
    "             \"min_samples_leaf\": [2,5,10,15,20,25,50,100],\n",
    "              \"criterion\" : [\"gini\",\"entropy\"]\n",
    "             }"
   ]
  },
  {
   "cell_type": "code",
   "execution_count": 175,
   "id": "54d6d5bf",
   "metadata": {},
   "outputs": [],
   "source": [
    "from sklearn.model_selection import GridSearchCV"
   ]
  },
  {
   "cell_type": "code",
   "execution_count": 176,
   "id": "8d94eac9",
   "metadata": {},
   "outputs": [],
   "source": [
    "grid = GridSearchCV(model, param_grid= parameters, cv=10, n_jobs= -1)"
   ]
  },
  {
   "cell_type": "code",
   "execution_count": 177,
   "id": "f10d77e7",
   "metadata": {},
   "outputs": [
    {
     "data": {
      "text/plain": [
       "GridSearchCV(cv=10, estimator=DecisionTreeClassifier(), n_jobs=-1,\n",
       "             param_grid={'criterion': ['gini', 'entropy'],\n",
       "                         'max_depth': [2, 3, 4, 5, 6, 7, 8, 9, 10],\n",
       "                         'min_samples_leaf': [2, 5, 10, 15, 20, 25, 50, 100],\n",
       "                         'min_samples_split': [2, 5, 10, 15, 20, 25, 50]})"
      ]
     },
     "execution_count": 177,
     "metadata": {},
     "output_type": "execute_result"
    }
   ],
   "source": [
    "grid.fit(x_train_sm,y_train_sm)"
   ]
  },
  {
   "cell_type": "code",
   "execution_count": 178,
   "id": "0de650d4",
   "metadata": {},
   "outputs": [
    {
     "data": {
      "text/plain": [
       "DecisionTreeClassifier(max_depth=10, min_samples_leaf=2, min_samples_split=20)"
      ]
     },
     "execution_count": 178,
     "metadata": {},
     "output_type": "execute_result"
    }
   ],
   "source": [
    "grid.best_estimator_"
   ]
  },
  {
   "cell_type": "code",
   "execution_count": 179,
   "id": "299182cd",
   "metadata": {},
   "outputs": [
    {
     "data": {
      "text/plain": [
       "0.8700253945220388"
      ]
     },
     "execution_count": 179,
     "metadata": {},
     "output_type": "execute_result"
    }
   ],
   "source": [
    "grid.best_score_"
   ]
  },
  {
   "cell_type": "code",
   "execution_count": 180,
   "id": "47328d88",
   "metadata": {},
   "outputs": [
    {
     "data": {
      "text/plain": [
       "{'criterion': 'gini',\n",
       " 'max_depth': 10,\n",
       " 'min_samples_leaf': 2,\n",
       " 'min_samples_split': 20}"
      ]
     },
     "execution_count": 180,
     "metadata": {},
     "output_type": "execute_result"
    }
   ],
   "source": [
    "## Best parameters for the decision tree are as follows:\n",
    "grid.best_params_"
   ]
  },
  {
   "cell_type": "markdown",
   "id": "29d7ad1b",
   "metadata": {},
   "source": [
    "## Fitting decison tree with above optimal parameters"
   ]
  },
  {
   "cell_type": "code",
   "execution_count": 181,
   "id": "3b394e79",
   "metadata": {},
   "outputs": [],
   "source": [
    "model_optimal =  DecisionTreeClassifier(criterion='gini', max_depth=10,min_samples_leaf =2,min_samples_split = 20)"
   ]
  },
  {
   "cell_type": "code",
   "execution_count": 183,
   "id": "b2035f03",
   "metadata": {},
   "outputs": [
    {
     "data": {
      "text/plain": [
       "DecisionTreeClassifier(max_depth=10, min_samples_leaf=2, min_samples_split=20)"
      ]
     },
     "execution_count": 183,
     "metadata": {},
     "output_type": "execute_result"
    }
   ],
   "source": [
    "model_optimal.fit(x_train_sm,y_train_sm)"
   ]
  },
  {
   "cell_type": "code",
   "execution_count": 184,
   "id": "0adacc55",
   "metadata": {},
   "outputs": [],
   "source": [
    "y_pred = model_optimal.predict(x_valid)"
   ]
  },
  {
   "cell_type": "code",
   "execution_count": 185,
   "id": "8dfe58e0",
   "metadata": {},
   "outputs": [
    {
     "data": {
      "text/plain": [
       "0.8843537414965986"
      ]
     },
     "execution_count": 185,
     "metadata": {},
     "output_type": "execute_result"
    }
   ],
   "source": [
    "accuracy_score(y_valid,y_pred)"
   ]
  },
  {
   "cell_type": "code",
   "execution_count": 186,
   "id": "c1c7ced5",
   "metadata": {},
   "outputs": [],
   "source": [
    "## Decison Tree wiht optimal hyper parameter"
   ]
  },
  {
   "cell_type": "code",
   "execution_count": 187,
   "id": "ae7e3b8b",
   "metadata": {},
   "outputs": [],
   "source": [
    "y_pred = model_optimal.predict(x_test)"
   ]
  },
  {
   "cell_type": "code",
   "execution_count": 188,
   "id": "5330a4f3",
   "metadata": {},
   "outputs": [
    {
     "name": "stdout",
     "output_type": "stream",
     "text": [
      "accuracy score of decion tree with optimal hyperparameter = 0.8741496598639455\n"
     ]
    }
   ],
   "source": [
    "## accuracy score of decsion tree with optimal hyperparameter\n",
    "print('accuracy score of decion tree with optimal hyperparameter =',accuracy_score(y_test,y_pred))"
   ]
  },
  {
   "cell_type": "code",
   "execution_count": 189,
   "id": "4131623d",
   "metadata": {},
   "outputs": [
    {
     "name": "stdout",
     "output_type": "stream",
     "text": [
      "              precision    recall  f1-score   support\n",
      "\n",
      "           0       0.93      0.92      0.92       244\n",
      "           1       0.63      0.64      0.63        50\n",
      "\n",
      "    accuracy                           0.87       294\n",
      "   macro avg       0.78      0.78      0.78       294\n",
      "weighted avg       0.88      0.87      0.87       294\n",
      "\n"
     ]
    }
   ],
   "source": [
    "print(classification_report(y_test,y_pred))"
   ]
  },
  {
   "cell_type": "code",
   "execution_count": 190,
   "id": "74d3b39e",
   "metadata": {},
   "outputs": [
    {
     "data": {
      "text/plain": [
       "0    244\n",
       "1     50\n",
       "Name: Attrition, dtype: int64"
      ]
     },
     "execution_count": 190,
     "metadata": {},
     "output_type": "execute_result"
    }
   ],
   "source": [
    "y_test.value_counts()"
   ]
  },
  {
   "cell_type": "markdown",
   "id": "848c613c",
   "metadata": {},
   "source": [
    "## Random Forest after SMOTE"
   ]
  },
  {
   "cell_type": "code",
   "execution_count": 191,
   "id": "36b6b2a7",
   "metadata": {},
   "outputs": [],
   "source": [
    "from sklearn.ensemble import RandomForestClassifier "
   ]
  },
  {
   "cell_type": "code",
   "execution_count": 192,
   "id": "37ae9734",
   "metadata": {},
   "outputs": [],
   "source": [
    "modelrf = RandomForestClassifier()"
   ]
  },
  {
   "cell_type": "code",
   "execution_count": 193,
   "id": "9032eccf",
   "metadata": {},
   "outputs": [
    {
     "data": {
      "text/plain": [
       "RandomForestClassifier()"
      ]
     },
     "execution_count": 193,
     "metadata": {},
     "output_type": "execute_result"
    }
   ],
   "source": [
    "modelrf.fit(x_train_sm,y_train_sm)"
   ]
  },
  {
   "cell_type": "code",
   "execution_count": 194,
   "id": "d88a647a",
   "metadata": {},
   "outputs": [],
   "source": [
    "y_pred = modelrf.predict(x_valid)"
   ]
  },
  {
   "cell_type": "code",
   "execution_count": 195,
   "id": "e6e52170",
   "metadata": {},
   "outputs": [
    {
     "data": {
      "text/plain": [
       "0.9625850340136054"
      ]
     },
     "execution_count": 195,
     "metadata": {},
     "output_type": "execute_result"
    }
   ],
   "source": [
    "accuracy_score(y_valid,y_pred)"
   ]
  },
  {
   "cell_type": "code",
   "execution_count": 196,
   "id": "ff3146ba",
   "metadata": {},
   "outputs": [],
   "source": [
    "## Random Forest wihtoptimal hyper parameter"
   ]
  },
  {
   "cell_type": "code",
   "execution_count": 197,
   "id": "23cd6a3e",
   "metadata": {},
   "outputs": [],
   "source": [
    "y_pred = modelrf.predict(x_test)"
   ]
  },
  {
   "cell_type": "code",
   "execution_count": 198,
   "id": "3319f124",
   "metadata": {},
   "outputs": [
    {
     "name": "stdout",
     "output_type": "stream",
     "text": [
      "accuracy score of random forest with optimal hyperparameter = 0.9523809523809523\n"
     ]
    }
   ],
   "source": [
    "## accuracy score of random forest without optimal hyperparameter\n",
    "print('accuracy score of random forest with optimal hyperparameter =',accuracy_score(y_test,y_pred))"
   ]
  },
  {
   "cell_type": "code",
   "execution_count": 199,
   "id": "320ee7bc",
   "metadata": {},
   "outputs": [
    {
     "name": "stdout",
     "output_type": "stream",
     "text": [
      "              precision    recall  f1-score   support\n",
      "\n",
      "           0       0.96      0.99      0.97       244\n",
      "           1       0.93      0.78      0.85        50\n",
      "\n",
      "    accuracy                           0.95       294\n",
      "   macro avg       0.94      0.88      0.91       294\n",
      "weighted avg       0.95      0.95      0.95       294\n",
      "\n"
     ]
    }
   ],
   "source": [
    "print(classification_report(y_test,y_pred))"
   ]
  },
  {
   "cell_type": "markdown",
   "id": "765ffda8",
   "metadata": {},
   "source": [
    "## Finding optimal parameters for random forest using grid search cv"
   ]
  },
  {
   "cell_type": "code",
   "execution_count": 200,
   "id": "a8b39de1",
   "metadata": {},
   "outputs": [],
   "source": [
    "parametersrf = {\"max_depth\":[2,3,4,5,6,7,8,9,10],\n",
    "             \"min_samples_split\":[2,5,10,15,20,25,50],\n",
    "             \"min_samples_leaf\": [2,5,10,15,20,25,50,100],\n",
    "              \"criterion\" : [\"gini\",\"entropy\"],\n",
    "              \"n_estimators\": [100,125,150,175,200,250,300],\n",
    "                \"bootstrap\" : [\"True\",\"False\"],\n",
    "                \"max_samples\": [200,300,400,500,600,800]\n",
    "             }"
   ]
  },
  {
   "cell_type": "code",
   "execution_count": 201,
   "id": "3f902697",
   "metadata": {},
   "outputs": [],
   "source": [
    "from sklearn.model_selection import RandomizedSearchCV"
   ]
  },
  {
   "cell_type": "code",
   "execution_count": 202,
   "id": "cdc32662",
   "metadata": {},
   "outputs": [],
   "source": [
    "gridrf = RandomizedSearchCV(modelrf, param_distributions= parametersrf, cv=10, n_jobs= -1)"
   ]
  },
  {
   "cell_type": "code",
   "execution_count": 235,
   "id": "5e9ca81f",
   "metadata": {},
   "outputs": [
    {
     "data": {
      "text/plain": [
       "RandomizedSearchCV(cv=10, estimator=RandomForestClassifier(), n_jobs=-1,\n",
       "                   param_distributions={'bootstrap': ['True', 'False'],\n",
       "                                        'criterion': ['gini', 'entropy'],\n",
       "                                        'max_depth': [2, 3, 4, 5, 6, 7, 8, 9,\n",
       "                                                      10],\n",
       "                                        'max_samples': [200, 300, 400, 500, 600,\n",
       "                                                        800],\n",
       "                                        'min_samples_leaf': [2, 5, 10, 15, 20,\n",
       "                                                             25, 50, 100],\n",
       "                                        'min_samples_split': [2, 5, 10, 15, 20,\n",
       "                                                              25, 50],\n",
       "                                        'n_estimators': [100, 125, 150, 175,\n",
       "                                                         200, 250, 300]})"
      ]
     },
     "execution_count": 235,
     "metadata": {},
     "output_type": "execute_result"
    }
   ],
   "source": [
    "gridrf.fit(x_train_sm,y_train_sm)"
   ]
  },
  {
   "cell_type": "code",
   "execution_count": 236,
   "id": "a0fdaa63",
   "metadata": {},
   "outputs": [
    {
     "data": {
      "text/plain": [
       "RandomForestClassifier(bootstrap='False', max_depth=6, max_samples=600,\n",
       "                       min_samples_leaf=5, min_samples_split=25,\n",
       "                       n_estimators=300)"
      ]
     },
     "execution_count": 236,
     "metadata": {},
     "output_type": "execute_result"
    }
   ],
   "source": [
    "gridrf.best_estimator_"
   ]
  },
  {
   "cell_type": "code",
   "execution_count": 237,
   "id": "3367eefd",
   "metadata": {},
   "outputs": [
    {
     "data": {
      "text/plain": [
       "0.8963223290404498"
      ]
     },
     "execution_count": 237,
     "metadata": {},
     "output_type": "execute_result"
    }
   ],
   "source": [
    "gridrf.best_score_"
   ]
  },
  {
   "cell_type": "code",
   "execution_count": 238,
   "id": "6fbf09ce",
   "metadata": {},
   "outputs": [
    {
     "data": {
      "text/plain": [
       "{'n_estimators': 300,\n",
       " 'min_samples_split': 25,\n",
       " 'min_samples_leaf': 5,\n",
       " 'max_samples': 600,\n",
       " 'max_depth': 6,\n",
       " 'criterion': 'gini',\n",
       " 'bootstrap': 'False'}"
      ]
     },
     "execution_count": 238,
     "metadata": {},
     "output_type": "execute_result"
    }
   ],
   "source": [
    "## Best parameters for the adaboost are as follows:\n",
    "gridrf.best_params_"
   ]
  },
  {
   "cell_type": "markdown",
   "id": "97546616",
   "metadata": {},
   "source": [
    "## Fitting random forest with the  above optimal hyper parameter"
   ]
  },
  {
   "cell_type": "code",
   "execution_count": 239,
   "id": "ea8097ea",
   "metadata": {},
   "outputs": [],
   "source": [
    "modelrf = RandomForestClassifier(n_estimators=300,min_samples_split = 25,min_samples_leaf = 5,max_samples = 600,max_depth =6,\n",
    "                                criterion = 'gini',bootstrap = 'True')"
   ]
  },
  {
   "cell_type": "code",
   "execution_count": 240,
   "id": "e2d7785a",
   "metadata": {},
   "outputs": [
    {
     "data": {
      "text/plain": [
       "RandomForestClassifier(bootstrap='True', max_depth=6, max_samples=600,\n",
       "                       min_samples_leaf=5, min_samples_split=25,\n",
       "                       n_estimators=300)"
      ]
     },
     "execution_count": 240,
     "metadata": {},
     "output_type": "execute_result"
    }
   ],
   "source": [
    "modelrf.fit(x_train_sm,y_train_sm)"
   ]
  },
  {
   "cell_type": "code",
   "execution_count": 241,
   "id": "e6884430",
   "metadata": {},
   "outputs": [],
   "source": [
    "y_pred = modelrf.predict(x_valid)"
   ]
  },
  {
   "cell_type": "code",
   "execution_count": 242,
   "id": "10bdb06a",
   "metadata": {},
   "outputs": [
    {
     "data": {
      "text/plain": [
       "0.8945578231292517"
      ]
     },
     "execution_count": 242,
     "metadata": {},
     "output_type": "execute_result"
    }
   ],
   "source": [
    "accuracy_score(y_valid,y_pred)"
   ]
  },
  {
   "cell_type": "code",
   "execution_count": 243,
   "id": "903590ac",
   "metadata": {},
   "outputs": [],
   "source": [
    "## Random forest with optimal hyper parameter"
   ]
  },
  {
   "cell_type": "code",
   "execution_count": 244,
   "id": "5bc5a928",
   "metadata": {},
   "outputs": [],
   "source": [
    "y_pred = modelrf.predict(x_test)"
   ]
  },
  {
   "cell_type": "code",
   "execution_count": 245,
   "id": "d2c8f5fd",
   "metadata": {},
   "outputs": [
    {
     "name": "stdout",
     "output_type": "stream",
     "text": [
      "accuracy score of random forest with optimal hyperparameter = 0.8639455782312925\n"
     ]
    }
   ],
   "source": [
    "## accuracy score of random forest with optimal hyperparameter\n",
    "print('accuracy score of random forest with optimal hyperparameter =',accuracy_score(y_test,y_pred))"
   ]
  },
  {
   "cell_type": "code",
   "execution_count": 247,
   "id": "3affbbd8",
   "metadata": {},
   "outputs": [
    {
     "name": "stdout",
     "output_type": "stream",
     "text": [
      "              precision    recall  f1-score   support\n",
      "\n",
      "           0       0.89      0.95      0.92       244\n",
      "           1       0.65      0.44      0.52        50\n",
      "\n",
      "    accuracy                           0.86       294\n",
      "   macro avg       0.77      0.70      0.72       294\n",
      "weighted avg       0.85      0.86      0.85       294\n",
      "\n"
     ]
    }
   ],
   "source": [
    "print(classification_report(y_test,y_pred))"
   ]
  },
  {
   "cell_type": "markdown",
   "id": "99ecd274",
   "metadata": {},
   "source": [
    "## Adaboost after smote"
   ]
  },
  {
   "cell_type": "markdown",
   "id": "a38b36e9",
   "metadata": {},
   "source": [
    "## Adaboost"
   ]
  },
  {
   "cell_type": "code",
   "execution_count": 248,
   "id": "31ea545e",
   "metadata": {},
   "outputs": [],
   "source": [
    "from sklearn.ensemble import AdaBoostClassifier"
   ]
  },
  {
   "cell_type": "code",
   "execution_count": 249,
   "id": "7d59e760",
   "metadata": {},
   "outputs": [],
   "source": [
    "modelad = AdaBoostClassifier()"
   ]
  },
  {
   "cell_type": "code",
   "execution_count": 250,
   "id": "82141a8c",
   "metadata": {},
   "outputs": [
    {
     "data": {
      "text/plain": [
       "AdaBoostClassifier()"
      ]
     },
     "execution_count": 250,
     "metadata": {},
     "output_type": "execute_result"
    }
   ],
   "source": [
    "modelad.fit(x_train_sm,y_train_sm)"
   ]
  },
  {
   "cell_type": "code",
   "execution_count": 251,
   "id": "aa905bf6",
   "metadata": {},
   "outputs": [],
   "source": [
    "y_pred = modelad.predict(x_valid)"
   ]
  },
  {
   "cell_type": "code",
   "execution_count": 252,
   "id": "2c266e0d",
   "metadata": {},
   "outputs": [
    {
     "data": {
      "text/plain": [
       "0.8503401360544217"
      ]
     },
     "execution_count": 252,
     "metadata": {},
     "output_type": "execute_result"
    }
   ],
   "source": [
    "accuracy_score(y_valid,y_pred)"
   ]
  },
  {
   "cell_type": "code",
   "execution_count": 253,
   "id": "d1298853",
   "metadata": {},
   "outputs": [],
   "source": [
    "##  adaboost without hyper parameter"
   ]
  },
  {
   "cell_type": "code",
   "execution_count": 254,
   "id": "27d0b6b5",
   "metadata": {},
   "outputs": [],
   "source": [
    "y_pred = modelad.predict(x_test)"
   ]
  },
  {
   "cell_type": "code",
   "execution_count": 255,
   "id": "9615019b",
   "metadata": {},
   "outputs": [
    {
     "name": "stdout",
     "output_type": "stream",
     "text": [
      "accuracy score of random forest with optimal hyperparameter = 0.8333333333333334\n"
     ]
    }
   ],
   "source": [
    "## accuracy score of adaboost without optimal hyperparameter\n",
    "print('accuracy score of random forest with optimal hyperparameter =',accuracy_score(y_test,y_pred))"
   ]
  },
  {
   "cell_type": "code",
   "execution_count": 256,
   "id": "56544f32",
   "metadata": {},
   "outputs": [
    {
     "name": "stdout",
     "output_type": "stream",
     "text": [
      "              precision    recall  f1-score   support\n",
      "\n",
      "           0       0.90      0.89      0.90       244\n",
      "           1       0.51      0.54      0.52        50\n",
      "\n",
      "    accuracy                           0.83       294\n",
      "   macro avg       0.71      0.72      0.71       294\n",
      "weighted avg       0.84      0.83      0.84       294\n",
      "\n"
     ]
    }
   ],
   "source": [
    "print(classification_report(y_test,y_pred))"
   ]
  },
  {
   "cell_type": "code",
   "execution_count": 257,
   "id": "1863c3e9",
   "metadata": {},
   "outputs": [
    {
     "data": {
      "text/plain": [
       "0.5242718446601942"
      ]
     },
     "execution_count": 257,
     "metadata": {},
     "output_type": "execute_result"
    }
   ],
   "source": [
    "f1_score(y_test, y_pred)"
   ]
  },
  {
   "cell_type": "markdown",
   "id": "c1a7802c",
   "metadata": {},
   "source": [
    "## Finding optimal parameter for the adaboost"
   ]
  },
  {
   "cell_type": "code",
   "execution_count": 261,
   "id": "c0a0f109",
   "metadata": {},
   "outputs": [],
   "source": [
    "parameters = {\"n_estimators\":[10,50,100,500],\n",
    "             \"learning_rate\":[.0001,.001,.01,1],\n",
    "             \"algorithm\": ['SAMME','SAMME.R']}"
   ]
  },
  {
   "cell_type": "code",
   "execution_count": 262,
   "id": "7421936d",
   "metadata": {},
   "outputs": [],
   "source": [
    "from sklearn.model_selection import GridSearchCV"
   ]
  },
  {
   "cell_type": "code",
   "execution_count": 263,
   "id": "eb62626d",
   "metadata": {},
   "outputs": [],
   "source": [
    "grid = GridSearchCV(modelad, param_grid= parameters, cv=10, n_jobs= -1)"
   ]
  },
  {
   "cell_type": "code",
   "execution_count": 264,
   "id": "49c70f45",
   "metadata": {},
   "outputs": [
    {
     "data": {
      "text/plain": [
       "GridSearchCV(cv=10, estimator=AdaBoostClassifier(), n_jobs=-1,\n",
       "             param_grid={'algorithm': ['SAMME', 'SAMME.R'],\n",
       "                         'learning_rate': [0.0001, 0.001, 0.01, 1],\n",
       "                         'n_estimators': [10, 50, 100, 500]})"
      ]
     },
     "execution_count": 264,
     "metadata": {},
     "output_type": "execute_result"
    }
   ],
   "source": [
    "grid.fit(x_train_sm,y_train_sm)"
   ]
  },
  {
   "cell_type": "code",
   "execution_count": 265,
   "id": "e7663ad2",
   "metadata": {},
   "outputs": [
    {
     "data": {
      "text/plain": [
       "AdaBoostClassifier(algorithm='SAMME', learning_rate=1, n_estimators=500)"
      ]
     },
     "execution_count": 265,
     "metadata": {},
     "output_type": "execute_result"
    }
   ],
   "source": [
    "grid.best_estimator_"
   ]
  },
  {
   "cell_type": "code",
   "execution_count": 266,
   "id": "0e5afe49",
   "metadata": {},
   "outputs": [
    {
     "data": {
      "text/plain": [
       "0.8963722111373118"
      ]
     },
     "execution_count": 266,
     "metadata": {},
     "output_type": "execute_result"
    }
   ],
   "source": [
    "grid.best_score_"
   ]
  },
  {
   "cell_type": "code",
   "execution_count": 267,
   "id": "ad4003a1",
   "metadata": {},
   "outputs": [
    {
     "data": {
      "text/plain": [
       "{'algorithm': 'SAMME', 'learning_rate': 1, 'n_estimators': 500}"
      ]
     },
     "execution_count": 267,
     "metadata": {},
     "output_type": "execute_result"
    }
   ],
   "source": [
    "## Best parameters for the adaboost are as follows:\n",
    "grid.best_params_"
   ]
  },
  {
   "cell_type": "markdown",
   "id": "087bb72e",
   "metadata": {},
   "source": [
    "## Fitting the adaboost on the above optimal hyper parameters"
   ]
  },
  {
   "cell_type": "code",
   "execution_count": 269,
   "id": "68c0e2c0",
   "metadata": {},
   "outputs": [],
   "source": [
    "modeladopt = AdaBoostClassifier(algorithm='SAMME',learning_rate= 1,n_estimators= 500)"
   ]
  },
  {
   "cell_type": "code",
   "execution_count": 270,
   "id": "4488f28b",
   "metadata": {},
   "outputs": [
    {
     "data": {
      "text/plain": [
       "AdaBoostClassifier(algorithm='SAMME', learning_rate=1, n_estimators=500)"
      ]
     },
     "execution_count": 270,
     "metadata": {},
     "output_type": "execute_result"
    }
   ],
   "source": [
    "modeladopt.fit(x_train_sm,y_train_sm)"
   ]
  },
  {
   "cell_type": "code",
   "execution_count": 271,
   "id": "dac03ab2",
   "metadata": {},
   "outputs": [],
   "source": [
    "y_pred = modeladopt.predict(x_valid)"
   ]
  },
  {
   "cell_type": "code",
   "execution_count": 272,
   "id": "9209ec97",
   "metadata": {},
   "outputs": [
    {
     "data": {
      "text/plain": [
       "0.8775510204081632"
      ]
     },
     "execution_count": 272,
     "metadata": {},
     "output_type": "execute_result"
    }
   ],
   "source": [
    "accuracy_score(y_valid,y_pred)"
   ]
  },
  {
   "cell_type": "code",
   "execution_count": 273,
   "id": "4838cb8c",
   "metadata": {},
   "outputs": [],
   "source": [
    "## Decison Tree adaboost without hyper parameter"
   ]
  },
  {
   "cell_type": "code",
   "execution_count": 274,
   "id": "1934b3c8",
   "metadata": {},
   "outputs": [],
   "source": [
    "y_pred = modeladopt.predict(x_test)"
   ]
  },
  {
   "cell_type": "code",
   "execution_count": 275,
   "id": "e47e1263",
   "metadata": {},
   "outputs": [
    {
     "name": "stdout",
     "output_type": "stream",
     "text": [
      "accuracy score of adaboost with optimal hyperparameter = 0.8639455782312925\n"
     ]
    }
   ],
   "source": [
    "## accuracy score of adaboost without optimal hyperparameter\n",
    "print('accuracy score of adaboost with optimal hyperparameter =',accuracy_score(y_test,y_pred))"
   ]
  },
  {
   "cell_type": "code",
   "execution_count": 276,
   "id": "eb529fda",
   "metadata": {},
   "outputs": [
    {
     "name": "stdout",
     "output_type": "stream",
     "text": [
      "              precision    recall  f1-score   support\n",
      "\n",
      "           0       0.90      0.93      0.92       244\n",
      "           1       0.62      0.52      0.57        50\n",
      "\n",
      "    accuracy                           0.86       294\n",
      "   macro avg       0.76      0.73      0.74       294\n",
      "weighted avg       0.86      0.86      0.86       294\n",
      "\n"
     ]
    }
   ],
   "source": [
    "print(classification_report(y_test,y_pred))"
   ]
  },
  {
   "cell_type": "code",
   "execution_count": 277,
   "id": "c4899592",
   "metadata": {},
   "outputs": [
    {
     "data": {
      "text/plain": [
       "0.5652173913043478"
      ]
     },
     "execution_count": 277,
     "metadata": {},
     "output_type": "execute_result"
    }
   ],
   "source": [
    "f1_score(y_pred,y_test)"
   ]
  },
  {
   "cell_type": "code",
   "execution_count": null,
   "id": "7dc7cdfc",
   "metadata": {},
   "outputs": [],
   "source": []
  },
  {
   "cell_type": "code",
   "execution_count": null,
   "id": "7e8c382b",
   "metadata": {},
   "outputs": [],
   "source": []
  }
 ],
 "metadata": {
  "kernelspec": {
   "display_name": "Python 3",
   "language": "python",
   "name": "python3"
  },
  "language_info": {
   "codemirror_mode": {
    "name": "ipython",
    "version": 3
   },
   "file_extension": ".py",
   "mimetype": "text/x-python",
   "name": "python",
   "nbconvert_exporter": "python",
   "pygments_lexer": "ipython3",
   "version": "3.8.8"
  }
 },
 "nbformat": 4,
 "nbformat_minor": 5
}
